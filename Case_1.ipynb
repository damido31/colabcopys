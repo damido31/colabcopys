{
  "cells": [
    {
      "cell_type": "markdown",
      "metadata": {
        "id": "view-in-github",
        "colab_type": "text"
      },
      "source": [
        "<a href=\"https://colab.research.google.com/github/damido31/colabcopys/blob/main/Case_1.ipynb\" target=\"_parent\"><img src=\"https://colab.research.google.com/assets/colab-badge.svg\" alt=\"Open In Colab\"/></a>"
      ]
    },
    {
      "cell_type": "code",
      "execution_count": null,
      "metadata": {
        "id": "6-FFiLGWTjav"
      },
      "outputs": [],
      "source": [
        "%run \"/content/drive/MyDrive/Colab Notebooks/autograd_lib.ipynb\"\n",
        "%run \"/content/drive/MyDrive/Colab Notebooks/problems.ipynb\"\n",
        "# %run \"/content/drive/MyDrive/Colab Notebooks/topo_physics.ipynb\"\n",
        "from matplotlib import pyplot as plt\n",
        "from IPython import display\n",
        "import xarray as xr"
      ]
    },
    {
      "cell_type": "code",
      "execution_count": null,
      "metadata": {
        "id": "LBdMaASzkK-1"
      },
      "outputs": [],
      "source": [
        "def get_stiffness_matrix(young, poisson):\n",
        "  # Element stiffness matrix\n",
        "    e, nu = young, poisson\n",
        "    k = np.array([1/2-nu/6, 1/8+nu/8, -1/4-nu/12, -1/8+3*nu/8,\n",
        "            -1/4+nu/12, -1/8-nu/8, nu/6, 1/8-3*nu/8])\n",
        "    return e/(1-nu**2)*np.array([[k[0], k[1], k[2], k[3], k[4], k[5], k[6], k[7]],\n",
        "                   [k[1], k[0], k[7], k[6], k[5], k[4], k[3], k[2]],\n",
        "                   [k[2], k[7], k[0], k[5], k[6], k[3], k[4], k[1]],\n",
        "                   [k[3], k[6], k[5], k[0], k[7], k[2], k[1], k[4]],\n",
        "                   [k[4], k[5], k[6], k[7], k[0], k[1], k[2], k[3]],\n",
        "                   [k[5], k[4], k[3], k[2], k[1], k[0], k[7], k[6]],\n",
        "                   [k[6], k[3], k[4], k[1], k[2], k[7], k[0], k[5]],\n",
        "                   [k[7], k[2], k[1], k[4], k[3], k[6], k[5], k[0]]\n",
        "                  ])\n",
        "\n",
        "def young_modulus(x, e_0, e_min, p=3):\n",
        "    return e_min + x ** p * (e_0 - e_min)\n",
        "\n",
        "def fem_solver(x_phys, params):\n",
        "\n",
        "    forces = params['forces']\n",
        "    freedofs = params['freedofs']\n",
        "    fixdofs = params['fixdofs']\n",
        "    \n",
        "    def solve_coo(a_entries, a_indices, b):\n",
        "        a = scipy.sparse.coo_matrix((a_entries, a_indices), shape=(b.size,)*2).tocsc()\n",
        "        solver = scipy.sparse.linalg.splu(a).solve\n",
        "        return solver(b)\n",
        "    \n",
        "    def inverse_permutation(indices):\n",
        "        inverse_perm = np.zeros(len(indices), dtype=np.int64)\n",
        "        inverse_perm[indices] = np.arange(len(indices), dtype=np.int64)\n",
        "        return inverse_perm\n",
        "  \n",
        "    def _get_dof_indices(freedofs, fixdofs, k_xlist, k_ylist):\n",
        "        index_map = inverse_permutation(\n",
        "            np.concatenate([freedofs, fixdofs]))\n",
        "        keep = np.isin(k_xlist, freedofs) & np.isin(k_ylist, freedofs)\n",
        "        i = index_map[k_ylist][keep]\n",
        "        j = index_map[k_xlist][keep]\n",
        "        return index_map, keep, np.stack([i, j])\n",
        "\n",
        "    def get_k(stiffness, ke):\n",
        "      # Constructs a sparse stiffness matrix, k, for use in the displace function.\n",
        "        nely, nelx = stiffness.shape\n",
        "\n",
        "      # get position of the nodes of each element in the stiffness matrix\n",
        "        ely, elx = np.meshgrid(range(nely), range(nelx))  # x, y coords\n",
        "        ely, elx = ely.reshape(-1, 1), elx.reshape(-1, 1)\n",
        "\n",
        "        n1 = (nely+1)*(elx+0) + (ely+0)\n",
        "        n2 = (nely+1)*(elx+1) + (ely+0)\n",
        "        n3 = (nely+1)*(elx+1) + (ely+1)\n",
        "        n4 = (nely+1)*(elx+0) + (ely+1)\n",
        "        edof = np.array([2*n1, 2*n1+1, 2*n2, 2*n2+1, 2*n3, 2*n3+1, 2*n4, 2*n4+1])\n",
        "        edof = edof.T[0]\n",
        "\n",
        "        x_list = np.repeat(edof, 8)  # flat list pointer of each node in an element\n",
        "        y_list = np.tile(edof, 8).flatten()  # flat list pointer of each node in elem\n",
        "\n",
        "      # make the stiffness matrix\n",
        "        kd = stiffness.T.reshape(nelx*nely, 1, 1)\n",
        "        value_list = (kd * np.tile(ke, kd.shape)).flatten()\n",
        "        return value_list, y_list, x_list\n",
        "\n",
        "    def displace(x_phys, forces, freedofs, fixdofs, *,\n",
        "             penal=3, e_min=1e-9, e_0=1):\n",
        "      # Displaces the load x using finite element techniques. The spsolve here\n",
        "      # occupies the majority of this entire simulation's runtime.\n",
        "        ke = get_stiffness_matrix(1, 0.3)\n",
        "        stiffness = young_modulus(x_phys, e_0, e_min, p=penal)\n",
        "        k_entries, k_ylist, k_xlist = get_k(stiffness, ke)\n",
        "\n",
        "        index_map, keep, indices = _get_dof_indices(\n",
        "              freedofs, fixdofs, k_ylist, k_xlist\n",
        "        )\n",
        "        u_nonzero = solve_coo(k_entries[keep], indices, forces[freedofs])\n",
        "        u_values = np.concatenate([u_nonzero, np.zeros(len(fixdofs))])\n",
        "        u = u_values[index_map]\n",
        "      # split u vector into ux and uy\n",
        "        nely, nelx = x_phys.shape\n",
        "        ux, uy = u[::2].reshape(nelx+1, nely+1),\\\n",
        "         u[1::2].reshape(nelx+1, nely+1)\n",
        "        return u, ux.T, uy.T\n",
        "    \n",
        "    return displace(x_phys, forces, freedofs, fixdofs)\n",
        "\n",
        "def compliance(x_phys, ux, uy, penal=3, e_min=1e-9, e_0=1):\n",
        "    ke = get_stiffness_matrix(1, 0.3)\n",
        "  # Calculates the compliance\n",
        "    u = np.dstack((ux.T.ravel(), uy.T.ravel())).ravel()\n",
        "  # index map\n",
        "    nely, nelx = x_phys.shape\n",
        "    ely, elx = np.meshgrid(range(nely), range(nelx))  # x, y coords\n",
        "   # nodes\n",
        "    n1 = (nely+1)*(elx+0) + (ely+0)\n",
        "    n2 = (nely+1)*(elx+1) + (ely+0)\n",
        "    n3 = (nely+1)*(elx+1) + (ely+1)\n",
        "    n4 = (nely+1)*(elx+0) + (ely+1)\n",
        "    all_ixs = np.array([2*n1, 2*n1+1, 2*n2, 2*n2+1, 2*n3, 2*n3+1, 2*n4, 2*n4+1])\n",
        "    # select from u matrix\n",
        "    u_selected = u[all_ixs]\n",
        "   # compute x^penal * U.T @ ke @ U in a vectorized way\n",
        "    ke_u = np.einsum('ij,jkl->ikl', ke, u_selected)\n",
        "    ce = np.einsum('ijk,ijk->jk', u_selected, ke_u)\n",
        "    C = penal * young_modulus(x_phys, e_0, e_min, p=penal-1) * ce.T\n",
        "    return C"
      ]
    },
    {
      "cell_type": "code",
      "execution_count": null,
      "metadata": {
        "id": "_k8hHkFaTp22"
      },
      "outputs": [],
      "source": [
        "def specified_task(problem, opt_steps=50):\n",
        "  \"\"\"Given a problem, return parameters for running a topology optimization.\"\"\"\n",
        "  fixdofs = np.flatnonzero(problem.normals.ravel())\n",
        "  alldofs = np.arange(2 * (problem.width + 1) * (problem.height + 1))\n",
        "  freedofs = np.sort(list(set(alldofs) - set(fixdofs)))\n",
        "\n",
        "  params = {\n",
        "      # material properties\n",
        "      'young': 1,\n",
        "      'young_min': 1e-9,\n",
        "      'poisson': 0.3,\n",
        "      'g': 0,\n",
        "      # constraints\n",
        "      'volfrac': problem.density,\n",
        "      'xmin': 0.001,\n",
        "      'xmax': 1.0,\n",
        "      # input parameters\n",
        "      'nelx': problem.width,\n",
        "      'nely': problem.height,\n",
        "      'mask': problem.mask,\n",
        "      'freedofs': freedofs,\n",
        "      'fixdofs': fixdofs,\n",
        "      'forces': problem.forces.ravel(),\n",
        "      'penal': 3.0,\n",
        "      'rmin': 1.5,\n",
        "      'filter_width': 2,\n",
        "      'opt_steps': opt_steps\n",
        "    }\n",
        "  return params\n",
        "\n",
        "def plot_frames(frames):    \n",
        "    key_frames = len(frames)//3\n",
        "    columns = 5\n",
        "    rows = key_frames//columns + 1\n",
        "    fig = plt.figure(figsize=(20, 20))\n",
        "    for i in range(1, key_frames + 1):\n",
        "        step = i * 3 - 1\n",
        "        fig.add_subplot(rows, columns, i)\n",
        "        plt.title(f'step{step}')\n",
        "        plt.imshow(frames[step], cmap='Greys')\n",
        "        plt.axis('off')\n",
        "    plt.show()\n",
        "  \n",
        "def plot_sens(frames):    \n",
        "    key_frames = len(frames)//10\n",
        "    columns = 5\n",
        "    rows = key_frames//columns\n",
        "    fig = plt.figure(figsize=(20, 20))\n",
        "    for i in range(1, key_frames + 1):\n",
        "        step = i * 10 - 1\n",
        "        fig.add_subplot(rows, columns, i)\n",
        "        plt.title(f'step{step}')\n",
        "        plt.imshow(frames[step])\n",
        "        plt.axis('off')\n",
        "    plt.show()\n",
        "\n",
        "def plot_displacement(ux, uy):    \n",
        "    fig = plt.figure(figsize=(10, 10))\n",
        "    fig.add_subplot(1,2,1)\n",
        "    plt.imshow(ux)\n",
        "    plt.colorbar()\n",
        "    fig.add_subplot(1,2,2)\n",
        "    plt.imshow(uy)\n",
        "    plt.colorbar()\n",
        "    plt.show()\n",
        "\n",
        "def plot_compliance(c):    \n",
        "    fig = plt.figure(figsize=(10, 10))\n",
        "    fig.add_subplot(1,1,1)\n",
        "    plt.imshow(c)\n",
        "    plt.colorbar()\n",
        "    plt.show()\n",
        "\n",
        "def plot_losses(losses):\n",
        "    step = np.arange(len(losses))\n",
        "    plt.plot(step, losses)\n",
        "    plt.title(\"Curve plotted using the given points\")\n",
        "    plt.xlabel(\"X\")\n",
        "    plt.ylabel(\"Y\")\n",
        "    plt.show()"
      ]
    },
    {
      "cell_type": "code",
      "execution_count": null,
      "metadata": {
        "colab": {
          "base_uri": "https://localhost:8080/",
          "height": 596
        },
        "id": "zWYnqclRFVbG",
        "outputId": "9a25671e-06fe-4bf2-b846-04bcc7f9b0d8"
      },
      "outputs": [
        {
          "output_type": "display_data",
          "data": {
            "text/plain": [
              "<Figure size 720x720 with 4 Axes>"
            ],
            "image/png": "[encoded data removed]"
          },
          "metadata": {
            "needs_background": "light"
          }
        },
        {
          "output_type": "execute_result",
          "data": {
            "text/plain": [
              "(20, 60)"
            ]
          },
          "metadata": {},
          "execution_count": 5
        }
      ],
      "source": [
        "def mbb_beam(width=60, height=20, density=0.5):\n",
        "  \"\"\"Textbook beam example.\"\"\"\n",
        "  normals = np.zeros((width + 1, height + 1, 2))\n",
        "  normals[-1, -1, Y] = 1\n",
        "  normals[0, :, X] = 1\n",
        "\n",
        "  forces = np.zeros((width + 1, height + 1, 2))\n",
        "  forces[0, 0, Y] = -1\n",
        "\n",
        "  return Problem(normals, forces, density)\n",
        "\n",
        "def cantilever_beam_full(\n",
        "    width=60, height=60, density=0.5, force_position=0):\n",
        "  \"\"\"Cantilever supported everywhere on the left.\"\"\"\n",
        "  # https://link.springer.com/content/pdf/10.1007%2Fs00158-010-0557-z.pdf\n",
        "  normals = np.zeros((width + 1, height + 1, 2))\n",
        "  normals[0, :, :] = 1\n",
        "\n",
        "  forces = np.zeros((width + 1, height + 1, 2))\n",
        "  forces[-1, round((1 - force_position)*height), Y] = -1\n",
        "\n",
        "  return Problem(normals, forces, density)  \n",
        "\n",
        "densities = np.random.rand(20,60)\n",
        "problem = cantilever_beam_full(32,32,force_position=0)\n",
        "problem = mbb_beam(60,20)\n",
        "params = specified_task(problem)\n",
        "u, ux, uy= fem_solver(densities, params)\n",
        "plot_displacement(ux, uy)\n",
        "c = compliance(densities, ux, uy)\n",
        "c.shape\n",
        "# plot_compliance(c)"
      ]
    },
    {
      "cell_type": "code",
      "execution_count": null,
      "metadata": {
        "id": "Ds8AeXekq4vM"
      },
      "outputs": [],
      "source": [
        "def generate_dataset(problem, num):\n",
        "  dens, disps, sens, uxs, uys = [], [], [], [], []\n",
        "  params = specified_task(problem)\n",
        "  nelx, nely = params['nelx'], params['nely']\n",
        "  for i in range(num):\n",
        "    den = np.random.rand(nely,nelx) + 1e-09\n",
        "    u, ux, uy = fem_solver(den, params)\n",
        "    sen = compliance(den, ux, uy)\n",
        "    uxs.append(ux)\n",
        "    uys.append(uy)\n",
        "    dens.append(den)\n",
        "    disps.append(u)\n",
        "    sens.append(sen)\n",
        "  ds = xr.Dataset({\n",
        "        'dens': (('number', 'nely', 'nelx'), dens),\n",
        "        'uxs': (('number', 'nnpy', 'nnpx'), uxs),\n",
        "        'uys': (('number', 'nnpy', 'nnpx'), uys),\n",
        "        'disps': (('number', 'dofs'), disps),\n",
        "        'sens': (('number', 'nely', 'nelx'), sens)\n",
        "    }, coords={'number': np.arange(len(dens))})\n",
        "  return ds"
      ]
    },
    {
      "cell_type": "code",
      "execution_count": null,
      "metadata": {
        "id": "ObReCZpmx2qI",
        "colab": {
          "base_uri": "https://localhost:8080/"
        },
        "outputId": "9302fc9a-d332-4105-ec2a-4b636280e317"
      },
      "outputs": [
        {
          "output_type": "stream",
          "name": "stdout",
          "text": [
            "CPU times: user 4min 21s, sys: 7.38 s, total: 4min 29s\n",
            "Wall time: 4min 29s\n"
          ]
        }
      ],
      "source": [
        "problem = cantilever_beam_full(60,20,force_position=0)\n",
        "%time ds = generate_dataset(problem, num=10000)\n",
        "ds.to_netcdf(\"/content/drive/MyDrive/Data/canti_fpos0_10000.nc\")"
      ]
    }
  ],
  "metadata": {
    "colab": {
      "collapsed_sections": [],
      "name": "Case-1.ipynb",
      "provenance": [],
      "mount_file_id": "13VvEs-GCdJrnakZOShDORBcOVz7sYB_Q",
      "authorship_tag": "ABX9TyNDM9AJmVkJl0Wab7z216iE",
      "include_colab_link": true
    },
    "kernelspec": {
      "display_name": "Python 3",
      "name": "python3"
    },
    "language_info": {
      "name": "python"
    },
    "gpuClass": "standard"
  },
  "nbformat": 4,
  "nbformat_minor": 0
}