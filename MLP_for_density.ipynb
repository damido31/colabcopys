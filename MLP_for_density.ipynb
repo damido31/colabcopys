{
  "cells": [
    {
      "cell_type": "markdown",
      "metadata": {
        "id": "view-in-github",
        "colab_type": "text"
      },
      "source": [
        "<a href=\"https://colab.research.google.com/github/damido31/colabcopys/blob/main/MLP_for_density.ipynb\" target=\"_parent\"><img src=\"https://colab.research.google.com/assets/colab-badge.svg\" alt=\"Open In Colab\"/></a>"
      ]
    },
    {
      "cell_type": "code",
      "execution_count": null,
      "metadata": {
        "id": "kzDKwgoc0Gvn"
      },
      "outputs": [],
      "source": [
        "import numpy as np\n",
        "import xarray as xr\n",
        "import tensorflow as tf\n",
        "from matplotlib import pyplot as plt\n",
        "from IPython import display\n",
        "layers = tf.keras.layers\n",
        "ds = xr.open_dataset(\n",
        "   \"/content/drive/MyDrive/Data/canti_fpos0_10000.nc\")"
      ]
    },
    {
      "cell_type": "code",
      "execution_count": null,
      "metadata": {
        "id": "7wIIyR5B2ASY"
      },
      "outputs": [],
      "source": [
        "index = [5]\n",
        "density = ds.dens.sel(number=index).values.squeeze()\n",
        "ux = ds.uxs.sel(number=index).values.squeeze()\n",
        "uy = ds.uys.sel(number=index).values.squeeze()\n",
        "sens = ds.sens.sel(number=index).values.squeeze()\n",
        "figure = plt.figure(figsize=(10,10))\n",
        "figure.add_subplot(2,2,1)\n",
        "plt.imshow(density, cmap='Greys')\n",
        "plt.title('density')\n",
        "figure.add_subplot(2,2,2)\n",
        "plt.imshow(ux)\n",
        "plt.title('ux')\n",
        "plt.colorbar()\n",
        "figure.add_subplot(2,2,3)\n",
        "plt.imshow(uy)\n",
        "plt.title('uy')\n",
        "plt.colorbar()\n",
        "figure.add_subplot(2,2,4)\n",
        "plt.imshow(sens)\n",
        "plt.title('sens')\n",
        "plt.colorbar()"
      ]
    },
    {
      "cell_type": "code",
      "source": [
        "data = ds.uxs\n",
        "means = data.mean(dim=['nnpy','nnpx']).values\n",
        "\n",
        "# print(np.where(means>1)[0].shape)\n",
        "# plt.imshow(means.reshape((-1,40)), cmap='rainbow')\n",
        "# plt.colorbar()\n",
        "# print(data.mean())\n",
        "# print(data.std())\n",
        "# print(data.max())\n",
        "# print(data.min())"
      ],
      "metadata": {
        "id": "6VAaZaLdRw_U"
      },
      "execution_count": null,
      "outputs": []
    },
    {
      "cell_type": "code",
      "source": [
        "bad_sample_indices = np.where(data.mean(dim=['nnpy','nnpx']).values > 1)[0]\n",
        "ds = ds.drop_isel(number=bad_sample_indices)\n",
        "ds"
      ],
      "metadata": {
        "colab": {
          "base_uri": "https://localhost:8080/",
          "height": 287
        },
        "id": "XaSEhOlFTbOB",
        "outputId": "2ebae79b-f790-4936-d687-8cb9eeaa1de5"
      },
      "execution_count": null,
      "outputs": [
        {
          "output_type": "execute_result",
          "data": {
            "text/plain": [
              "<xarray.Dataset>\n",
              "Dimensions:  (number: 4798, nely: 20, nelx: 60, nnpy: 21, nnpx: 61, dofs: 2562)\n",
              "Coordinates:\n",
              "  * number   (number) int64 0 2 6 7 8 11 14 ... 9982 9983 9993 9996 9998 9999\n",
              "Dimensions without coordinates: nely, nelx, nnpy, nnpx, dofs\n",
              "Data variables:\n",
              "    dens     (number, nely, nelx) float64 ...\n",
              "    uxs      (number, nnpy, nnpx) float64 0.0 -35.23 -35.16 ... 435.5 437.3\n",
              "    uys      (number, nnpy, nnpx) float64 ...\n",
              "    disps    (number, dofs) float64 ...\n",
              "    sens     (number, nely, nelx) float64 ..."
            ],
            "text/html": [
              "<div><svg style=\"position: absolute; width: 0; height: 0; overflow: hidden\">\n",
              "<defs>\n",
              "<symbol id=\"icon-database\" viewBox=\"0 0 32 32\">\n",
              "<path d=\"M16 0c-8.837 0-16 2.239-16 5v4c0 2.761 7.163 5 16 5s16-2.239 16-5v-4c0-2.761-7.163-5-16-5z\"></path>\n",
              "<path d=\"M16 17c-8.837 0-16-2.239-16-5v6c0 2.761 7.163 5 16 5s16-2.239 16-5v-6c0 2.761-7.163 5-16 5z\"></path>\n",
              "<path d=\"M16 26c-8.837 0-16-2.239-16-5v6c0 2.761 7.163 5 16 5s16-2.239 16-5v-6c0 2.761-7.163 5-16 5z\"></path>\n",
              "</symbol>\n",
              "<symbol id=\"icon-file-text2\" viewBox=\"0 0 32 32\">\n",
              "<path d=\"M28.681 7.159c-0.694-0.947-1.662-2.053-2.724-3.116s-2.169-2.030-3.116-2.724c-1.612-1.182-2.393-1.319-2.841-1.319h-15.5c-1.378 0-2.5 1.121-2.5 2.5v27c0 1.378 1.122 2.5 2.5 2.5h23c1.378 0 2.5-1.122 2.5-2.5v-19.5c0-0.448-0.137-1.23-1.319-2.841zM24.543 5.457c0.959 0.959 1.712 1.825 2.268 2.543h-4.811v-4.811c0.718 0.556 1.584 1.309 2.543 2.268zM28 29.5c0 0.271-0.229 0.5-0.5 0.5h-23c-0.271 0-0.5-0.229-0.5-0.5v-27c0-0.271 0.229-0.5 0.5-0.5 0 0 15.499-0 15.5 0v7c0 0.552 0.448 1 1 1h7v19.5z\"></path>\n",
              "<path d=\"M23 26h-14c-0.552 0-1-0.448-1-1s0.448-1 1-1h14c0.552 0 1 0.448 1 1s-0.448 1-1 1z\"></path>\n",
              "<path d=\"M23 22h-14c-0.552 0-1-0.448-1-1s0.448-1 1-1h14c0.552 0 1 0.448 1 1s-0.448 1-1 1z\"></path>\n",
              "<path d=\"M23 18h-14c-0.552 0-1-0.448-1-1s0.448-1 1-1h14c0.552 0 1 0.448 1 1s-0.448 1-1 1z\"></path>\n",
              "</symbol>\n",
              "</defs>\n",
              "</svg>\n",
              "<style>/* CSS stylesheet for displaying xarray objects in jupyterlab.\n",
              " *\n",
              " */\n",
              "\n",
              ":root {\n",
              "  --xr-font-color0: var(--jp-content-font-color0, rgba(0, 0, 0, 1));\n",
              "  --xr-font-color2: var(--jp-content-font-color2, rgba(0, 0, 0, 0.54));\n",
              "  --xr-font-color3: var(--jp-content-font-color3, rgba(0, 0, 0, 0.38));\n",
              "  --xr-border-color: var(--jp-border-color2, #e0e0e0);\n",
              "  --xr-disabled-color: var(--jp-layout-color3, #bdbdbd);\n",
              "  --xr-background-color: var(--jp-layout-color0, white);\n",
              "  --xr-background-color-row-even: var(--jp-layout-color1, white);\n",
              "  --xr-background-color-row-odd: var(--jp-layout-color2, #eeeeee);\n",
              "}\n",
              "\n",
              "html[theme=dark],\n",
              "body.vscode-dark {\n",
              "  --xr-font-color0: rgba(255, 255, 255, 1);\n",
              "  --xr-font-color2: rgba(255, 255, 255, 0.54);\n",
              "  --xr-font-color3: rgba(255, 255, 255, 0.38);\n",
              "  --xr-border-color: #1F1F1F;\n",
              "  --xr-disabled-color: #515151;\n",
              "  --xr-background-color: #111111;\n",
              "  --xr-background-color-row-even: #111111;\n",
              "  --xr-background-color-row-odd: #313131;\n",
              "}\n",
              "\n",
              ".xr-wrap {\n",
              "  display: block !important;\n",
              "  min-width: 300px;\n",
              "  max-width: 700px;\n",
              "}\n",
              "\n",
              ".xr-text-repr-fallback {\n",
              "  /* fallback to plain text repr when CSS is not injected (untrusted notebook) */\n",
              "  display: none;\n",
              "}\n",
              "\n",
              ".xr-header {\n",
              "  padding-top: 6px;\n",
              "  padding-bottom: 6px;\n",
              "  margin-bottom: 4px;\n",
              "  border-bottom: solid 1px var(--xr-border-color);\n",
              "}\n",
              "\n",
              ".xr-header > div,\n",
              ".xr-header > ul {\n",
              "  display: inline;\n",
              "  margin-top: 0;\n",
              "  margin-bottom: 0;\n",
              "}\n",
              "\n",
              ".xr-obj-type,\n",
              ".xr-array-name {\n",
              "  margin-left: 2px;\n",
              "  margin-right: 10px;\n",
              "}\n",
              "\n",
              ".xr-obj-type {\n",
              "  color: var(--xr-font-color2);\n",
              "}\n",
              "\n",
              ".xr-sections {\n",
              "  padding-left: 0 !important;\n",
              "  display: grid;\n",
              "  grid-template-columns: 150px auto auto 1fr 20px 20px;\n",
              "}\n",
              "\n",
              ".xr-section-item {\n",
              "  display: contents;\n",
              "}\n",
              "\n",
              ".xr-section-item input {\n",
              "  display: none;\n",
              "}\n",
              "\n",
              ".xr-section-item input + label {\n",
              "  color: var(--xr-disabled-color);\n",
              "}\n",
              "\n",
              ".xr-section-item input:enabled + label {\n",
              "  cursor: pointer;\n",
              "  color: var(--xr-font-color2);\n",
              "}\n",
              "\n",
              ".xr-section-item input:enabled + label:hover {\n",
              "  color: var(--xr-font-color0);\n",
              "}\n",
              "\n",
              ".xr-section-summary {\n",
              "  grid-column: 1;\n",
              "  color: var(--xr-font-color2);\n",
              "  font-weight: 500;\n",
              "}\n",
              "\n",
              ".xr-section-summary > span {\n",
              "  display: inline-block;\n",
              "  padding-left: 0.5em;\n",
              "}\n",
              "\n",
              ".xr-section-summary-in:disabled + label {\n",
              "  color: var(--xr-font-color2);\n",
              "}\n",
              "\n",
              ".xr-section-summary-in + label:before {\n",
              "  display: inline-block;\n",
              "  content: '►';\n",
              "  font-size: 11px;\n",
              "  width: 15px;\n",
              "  text-align: center;\n",
              "}\n",
              "\n",
              ".xr-section-summary-in:disabled + label:before {\n",
              "  color: var(--xr-disabled-color);\n",
              "}\n",
              "\n",
              ".xr-section-summary-in:checked + label:before {\n",
              "  content: '▼';\n",
              "}\n",
              "\n",
              ".xr-section-summary-in:checked + label > span {\n",
              "  display: none;\n",
              "}\n",
              "\n",
              ".xr-section-summary,\n",
              ".xr-section-inline-details {\n",
              "  padding-top: 4px;\n",
              "  padding-bottom: 4px;\n",
              "}\n",
              "\n",
              ".xr-section-inline-details {\n",
              "  grid-column: 2 / -1;\n",
              "}\n",
              "\n",
              ".xr-section-details {\n",
              "  display: none;\n",
              "  grid-column: 1 / -1;\n",
              "  margin-bottom: 5px;\n",
              "}\n",
              "\n",
              ".xr-section-summary-in:checked ~ .xr-section-details {\n",
              "  display: contents;\n",
              "}\n",
              "\n",
              ".xr-array-wrap {\n",
              "  grid-column: 1 / -1;\n",
              "  display: grid;\n",
              "  grid-template-columns: 20px auto;\n",
              "}\n",
              "\n",
              ".xr-array-wrap > label {\n",
              "  grid-column: 1;\n",
              "  vertical-align: top;\n",
              "}\n",
              "\n",
              ".xr-preview {\n",
              "  color: var(--xr-font-color3);\n",
              "}\n",
              "\n",
              ".xr-array-preview,\n",
              ".xr-array-data {\n",
              "  padding: 0 5px !important;\n",
              "  grid-column: 2;\n",
              "}\n",
              "\n",
              ".xr-array-data,\n",
              ".xr-array-in:checked ~ .xr-array-preview {\n",
              "  display: none;\n",
              "}\n",
              "\n",
              ".xr-array-in:checked ~ .xr-array-data,\n",
              ".xr-array-preview {\n",
              "  display: inline-block;\n",
              "}\n",
              "\n",
              ".xr-dim-list {\n",
              "  display: inline-block !important;\n",
              "  list-style: none;\n",
              "  padding: 0 !important;\n",
              "  margin: 0;\n",
              "}\n",
              "\n",
              ".xr-dim-list li {\n",
              "  display: inline-block;\n",
              "  padding: 0;\n",
              "  margin: 0;\n",
              "}\n",
              "\n",
              ".xr-dim-list:before {\n",
              "  content: '(';\n",
              "}\n",
              "\n",
              ".xr-dim-list:after {\n",
              "  content: ')';\n",
              "}\n",
              "\n",
              ".xr-dim-list li:not(:last-child):after {\n",
              "  content: ',';\n",
              "  padding-right: 5px;\n",
              "}\n",
              "\n",
              ".xr-has-index {\n",
              "  font-weight: bold;\n",
              "}\n",
              "\n",
              ".xr-var-list,\n",
              ".xr-var-item {\n",
              "  display: contents;\n",
              "}\n",
              "\n",
              ".xr-var-item > div,\n",
              ".xr-var-item label,\n",
              ".xr-var-item > .xr-var-name span {\n",
              "  background-color: var(--xr-background-color-row-even);\n",
              "  margin-bottom: 0;\n",
              "}\n",
              "\n",
              ".xr-var-item > .xr-var-name:hover span {\n",
              "  padding-right: 5px;\n",
              "}\n",
              "\n",
              ".xr-var-list > li:nth-child(odd) > div,\n",
              ".xr-var-list > li:nth-child(odd) > label,\n",
              ".xr-var-list > li:nth-child(odd) > .xr-var-name span {\n",
              "  background-color: var(--xr-background-color-row-odd);\n",
              "}\n",
              "\n",
              ".xr-var-name {\n",
              "  grid-column: 1;\n",
              "}\n",
              "\n",
              ".xr-var-dims {\n",
              "  grid-column: 2;\n",
              "}\n",
              "\n",
              ".xr-var-dtype {\n",
              "  grid-column: 3;\n",
              "  text-align: right;\n",
              "  color: var(--xr-font-color2);\n",
              "}\n",
              "\n",
              ".xr-var-preview {\n",
              "  grid-column: 4;\n",
              "}\n",
              "\n",
              ".xr-var-name,\n",
              ".xr-var-dims,\n",
              ".xr-var-dtype,\n",
              ".xr-preview,\n",
              ".xr-attrs dt {\n",
              "  white-space: nowrap;\n",
              "  overflow: hidden;\n",
              "  text-overflow: ellipsis;\n",
              "  padding-right: 10px;\n",
              "}\n",
              "\n",
              ".xr-var-name:hover,\n",
              ".xr-var-dims:hover,\n",
              ".xr-var-dtype:hover,\n",
              ".xr-attrs dt:hover {\n",
              "  overflow: visible;\n",
              "  width: auto;\n",
              "  z-index: 1;\n",
              "}\n",
              "\n",
              ".xr-var-attrs,\n",
              ".xr-var-data {\n",
              "  display: none;\n",
              "  background-color: var(--xr-background-color) !important;\n",
              "  padding-bottom: 5px !important;\n",
              "}\n",
              "\n",
              ".xr-var-attrs-in:checked ~ .xr-var-attrs,\n",
              ".xr-var-data-in:checked ~ .xr-var-data {\n",
              "  display: block;\n",
              "}\n",
              "\n",
              ".xr-var-data > table {\n",
              "  float: right;\n",
              "}\n",
              "\n",
              ".xr-var-name span,\n",
              ".xr-var-data,\n",
              ".xr-attrs {\n",
              "  padding-left: 25px !important;\n",
              "}\n",
              "\n",
              ".xr-attrs,\n",
              ".xr-var-attrs,\n",
              ".xr-var-data {\n",
              "  grid-column: 1 / -1;\n",
              "}\n",
              "\n",
              "dl.xr-attrs {\n",
              "  padding: 0;\n",
              "  margin: 0;\n",
              "  display: grid;\n",
              "  grid-template-columns: 125px auto;\n",
              "}\n",
              "\n",
              ".xr-attrs dt,\n",
              ".xr-attrs dd {\n",
              "  padding: 0;\n",
              "  margin: 0;\n",
              "  float: left;\n",
              "  padding-right: 10px;\n",
              "  width: auto;\n",
              "}\n",
              "\n",
              ".xr-attrs dt {\n",
              "  font-weight: normal;\n",
              "  grid-column: 1;\n",
              "}\n",
              "\n",
              ".xr-attrs dt:hover span {\n",
              "  display: inline-block;\n",
              "  background: var(--xr-background-color);\n",
              "  padding-right: 10px;\n",
              "}\n",
              "\n",
              ".xr-attrs dd {\n",
              "  grid-column: 2;\n",
              "  white-space: pre-wrap;\n",
              "  word-break: break-all;\n",
              "}\n",
              "\n",
              ".xr-icon-database,\n",
              ".xr-icon-file-text2 {\n",
              "  display: inline-block;\n",
              "  vertical-align: middle;\n",
              "  width: 1em;\n",
              "  height: 1.5em !important;\n",
              "  stroke-width: 0;\n",
              "  stroke: currentColor;\n",
              "  fill: currentColor;\n",
              "}\n",
              "</style><pre class='xr-text-repr-fallback'>&lt;xarray.Dataset&gt;\n",
              "Dimensions:  (number: 4798, nely: 20, nelx: 60, nnpy: 21, nnpx: 61, dofs: 2562)\n",
              "Coordinates:\n",
              "  * number   (number) int64 0 2 6 7 8 11 14 ... 9982 9983 9993 9996 9998 9999\n",
              "Dimensions without coordinates: nely, nelx, nnpy, nnpx, dofs\n",
              "Data variables:\n",
              "    dens     (number, nely, nelx) float64 ...\n",
              "    uxs      (number, nnpy, nnpx) float64 0.0 -35.23 -35.16 ... 435.5 437.3\n",
              "    uys      (number, nnpy, nnpx) float64 ...\n",
              "    disps    (number, dofs) float64 ...\n",
              "    sens     (number, nely, nelx) float64 ...</pre><div class='xr-wrap' style='display:none'><div class='xr-header'><div class='xr-obj-type'>xarray.Dataset</div></div><ul class='xr-sections'><li class='xr-section-item'><input id='section-f065f403-31e5-4e17-ad42-c4755de94501' class='xr-section-summary-in' type='checkbox' disabled ><label for='section-f065f403-31e5-4e17-ad42-c4755de94501' class='xr-section-summary'  title='Expand/collapse section'>Dimensions:</label><div class='xr-section-inline-details'><ul class='xr-dim-list'><li><span class='xr-has-index'>number</span>: 4798</li><li><span>nely</span>: 20</li><li><span>nelx</span>: 60</li><li><span>nnpy</span>: 21</li><li><span>nnpx</span>: 61</li><li><span>dofs</span>: 2562</li></ul></div><div class='xr-section-details'></div></li><li class='xr-section-item'><input id='section-ed0fcbeb-2bd3-4eca-8538-d46af1a12f82' class='xr-section-summary-in' type='checkbox'  checked><label for='section-ed0fcbeb-2bd3-4eca-8538-d46af1a12f82' class='xr-section-summary' >Coordinates: <span>(1)</span></label><div class='xr-section-inline-details'></div><div class='xr-section-details'><ul class='xr-var-list'><li class='xr-var-item'><div class='xr-var-name'><span class='xr-has-index'>number</span></div><div class='xr-var-dims'>(number)</div><div class='xr-var-dtype'>int64</div><div class='xr-var-preview xr-preview'>0 2 6 7 8 ... 9993 9996 9998 9999</div><input id='attrs-585c437f-c6ef-483e-810e-dfb67ed825a4' class='xr-var-attrs-in' type='checkbox' disabled><label for='attrs-585c437f-c6ef-483e-810e-dfb67ed825a4' title='Show/Hide attributes'><svg class='icon xr-icon-file-text2'><use xlink:href='#icon-file-text2'></use></svg></label><input id='data-93e26517-4fcd-4213-95aa-c82526f7e0dd' class='xr-var-data-in' type='checkbox'><label for='data-93e26517-4fcd-4213-95aa-c82526f7e0dd' title='Show/Hide data repr'><svg class='icon xr-icon-database'><use xlink:href='#icon-database'></use></svg></label><div class='xr-var-attrs'><dl class='xr-attrs'></dl></div><div class='xr-var-data'><pre>array([   0,    2,    6, ..., 9996, 9998, 9999])</pre></div></li></ul></div></li><li class='xr-section-item'><input id='section-4bd21c2a-409c-444e-a7f7-eed093ce1678' class='xr-section-summary-in' type='checkbox'  checked><label for='section-4bd21c2a-409c-444e-a7f7-eed093ce1678' class='xr-section-summary' >Data variables: <span>(5)</span></label><div class='xr-section-inline-details'></div><div class='xr-section-details'><ul class='xr-var-list'><li class='xr-var-item'><div class='xr-var-name'><span>dens</span></div><div class='xr-var-dims'>(number, nely, nelx)</div><div class='xr-var-dtype'>float64</div><div class='xr-var-preview xr-preview'>...</div><input id='attrs-f1a575c3-5091-4686-baa3-b3dc9fa0f63d' class='xr-var-attrs-in' type='checkbox' disabled><label for='attrs-f1a575c3-5091-4686-baa3-b3dc9fa0f63d' title='Show/Hide attributes'><svg class='icon xr-icon-file-text2'><use xlink:href='#icon-file-text2'></use></svg></label><input id='data-35daccc9-3db2-44d2-9a82-8ac458ba22a9' class='xr-var-data-in' type='checkbox'><label for='data-35daccc9-3db2-44d2-9a82-8ac458ba22a9' title='Show/Hide data repr'><svg class='icon xr-icon-database'><use xlink:href='#icon-database'></use></svg></label><div class='xr-var-attrs'><dl class='xr-attrs'></dl></div><div class='xr-var-data'><pre>[5757600 values with dtype=float64]</pre></div></li><li class='xr-var-item'><div class='xr-var-name'><span>uxs</span></div><div class='xr-var-dims'>(number, nnpy, nnpx)</div><div class='xr-var-dtype'>float64</div><div class='xr-var-preview xr-preview'>0.0 -35.23 -35.16 ... 435.5 437.3</div><input id='attrs-9ea0a3cd-44a3-428f-bf6a-f3b740e77b1c' class='xr-var-attrs-in' type='checkbox' disabled><label for='attrs-9ea0a3cd-44a3-428f-bf6a-f3b740e77b1c' title='Show/Hide attributes'><svg class='icon xr-icon-file-text2'><use xlink:href='#icon-file-text2'></use></svg></label><input id='data-ed9b012b-cfad-41e0-a6d5-4e20dfeb1e46' class='xr-var-data-in' type='checkbox'><label for='data-ed9b012b-cfad-41e0-a6d5-4e20dfeb1e46' title='Show/Hide data repr'><svg class='icon xr-icon-database'><use xlink:href='#icon-database'></use></svg></label><div class='xr-var-attrs'><dl class='xr-attrs'></dl></div><div class='xr-var-data'><pre>array([[[ 0.000000e+00, -3.523050e+01, ..., -2.649318e+02, -2.649252e+02],\n",
              "        [ 0.000000e+00, -2.293128e+01, ..., -2.395279e+02, -2.395348e+02],\n",
              "        ...,\n",
              "        [ 0.000000e+00,  2.604136e+00, ...,  2.306886e+02,  2.316009e+02],\n",
              "        [ 0.000000e+00,  4.221584e-01, ...,  2.706391e+02,  2.797056e+02]],\n",
              "\n",
              "       [[ 0.000000e+00, -4.985181e+00, ..., -3.855934e+02, -3.855934e+02],\n",
              "        [ 0.000000e+00, -1.751261e+00, ..., -3.479356e+02, -3.479356e+02],\n",
              "        ...,\n",
              "        [ 0.000000e+00,  2.108632e+01, ...,  4.046281e+02,  4.065060e+02],\n",
              "        [ 0.000000e+00,  1.890857e+01, ...,  4.888329e+02,  4.942891e+02]],\n",
              "\n",
              "       ...,\n",
              "\n",
              "       [[ 0.000000e+00, -5.598650e+01, ..., -3.991086e+02, -3.991090e+02],\n",
              "        [ 0.000000e+00, -2.150001e+01, ..., -3.580709e+02, -3.580699e+02],\n",
              "        ...,\n",
              "        [ 0.000000e+00,  1.192708e+00, ...,  3.895224e+02,  3.967495e+02],\n",
              "        [ 0.000000e+00,  6.043430e+00, ...,  4.427160e+02,  6.795395e+02]],\n",
              "\n",
              "       [[ 0.000000e+00, -1.547240e+01, ..., -3.965316e+02, -3.965311e+02],\n",
              "        [ 0.000000e+00, -1.184509e+01, ..., -3.572074e+02, -3.572082e+02],\n",
              "        ...,\n",
              "        [ 0.000000e+00,  5.300795e+00, ...,  3.737113e+02,  3.737169e+02],\n",
              "        [ 0.000000e+00,  1.879403e+01, ...,  4.354639e+02,  4.373111e+02]]])</pre></div></li><li class='xr-var-item'><div class='xr-var-name'><span>uys</span></div><div class='xr-var-dims'>(number, nnpy, nnpx)</div><div class='xr-var-dtype'>float64</div><div class='xr-var-preview xr-preview'>...</div><input id='attrs-1ff51ca9-6472-437e-9967-e2826af64119' class='xr-var-attrs-in' type='checkbox' disabled><label for='attrs-1ff51ca9-6472-437e-9967-e2826af64119' title='Show/Hide attributes'><svg class='icon xr-icon-file-text2'><use xlink:href='#icon-file-text2'></use></svg></label><input id='data-e426b979-a242-44b2-bb07-1949c49f9507' class='xr-var-data-in' type='checkbox'><label for='data-e426b979-a242-44b2-bb07-1949c49f9507' title='Show/Hide data repr'><svg class='icon xr-icon-database'><use xlink:href='#icon-database'></use></svg></label><div class='xr-var-attrs'><dl class='xr-attrs'></dl></div><div class='xr-var-data'><pre>[6146238 values with dtype=float64]</pre></div></li><li class='xr-var-item'><div class='xr-var-name'><span>disps</span></div><div class='xr-var-dims'>(number, dofs)</div><div class='xr-var-dtype'>float64</div><div class='xr-var-preview xr-preview'>...</div><input id='attrs-f78d77f8-e9e6-4061-8797-b0fab9730995' class='xr-var-attrs-in' type='checkbox' disabled><label for='attrs-f78d77f8-e9e6-4061-8797-b0fab9730995' title='Show/Hide attributes'><svg class='icon xr-icon-file-text2'><use xlink:href='#icon-file-text2'></use></svg></label><input id='data-017c11d4-9055-413b-acc0-2495197e02b0' class='xr-var-data-in' type='checkbox'><label for='data-017c11d4-9055-413b-acc0-2495197e02b0' title='Show/Hide data repr'><svg class='icon xr-icon-database'><use xlink:href='#icon-database'></use></svg></label><div class='xr-var-attrs'><dl class='xr-attrs'></dl></div><div class='xr-var-data'><pre>[12292476 values with dtype=float64]</pre></div></li><li class='xr-var-item'><div class='xr-var-name'><span>sens</span></div><div class='xr-var-dims'>(number, nely, nelx)</div><div class='xr-var-dtype'>float64</div><div class='xr-var-preview xr-preview'>...</div><input id='attrs-c89ef2b1-749a-408a-aecc-9538f90f64cb' class='xr-var-attrs-in' type='checkbox' disabled><label for='attrs-c89ef2b1-749a-408a-aecc-9538f90f64cb' title='Show/Hide attributes'><svg class='icon xr-icon-file-text2'><use xlink:href='#icon-file-text2'></use></svg></label><input id='data-e2441ed8-83d5-475a-b71b-60dc8d5b4adc' class='xr-var-data-in' type='checkbox'><label for='data-e2441ed8-83d5-475a-b71b-60dc8d5b4adc' title='Show/Hide data repr'><svg class='icon xr-icon-database'><use xlink:href='#icon-database'></use></svg></label><div class='xr-var-attrs'><dl class='xr-attrs'></dl></div><div class='xr-var-data'><pre>[5757600 values with dtype=float64]</pre></div></li></ul></div></li><li class='xr-section-item'><input id='section-d0c2274f-2dd3-4332-ae5f-46159b8ee2c9' class='xr-section-summary-in' type='checkbox' disabled ><label for='section-d0c2274f-2dd3-4332-ae5f-46159b8ee2c9' class='xr-section-summary'  title='Expand/collapse section'>Attributes: <span>(0)</span></label><div class='xr-section-inline-details'></div><div class='xr-section-details'><dl class='xr-attrs'></dl></div></li></ul></div></div>"
            ]
          },
          "metadata": {},
          "execution_count": 4
        }
      ]
    },
    {
      "cell_type": "code",
      "source": [
        "nelx, nely = ds.dens['nelx'].shape[0], ds.dens['nely'].shape[0]\n",
        "nnpx, nnpy = nelx + 1, nely + 1\n",
        "num_of_samples = ds.dens['number'].shape[0]\n",
        "dens = ds.dens.values.reshape(num_of_samples, nelx * nely)\n",
        "uxs = ds.uxs.values.reshape(num_of_samples, nnpx * nnpy)\n",
        "uys = ds.uys.values.reshape(num_of_samples, nnpx * nnpy)\n",
        "u = np.hstack((uxs,uys))"
      ],
      "metadata": {
        "id": "6o7lsdXlXKWA"
      },
      "execution_count": null,
      "outputs": []
    },
    {
      "cell_type": "code",
      "execution_count": null,
      "metadata": {
        "id": "NxmWWlHZG8b5"
      },
      "outputs": [],
      "source": [
        "from sklearn.model_selection import train_test_split\n",
        "input_data, output_data = dens, u\n",
        "input_train, input_valid, output_train, output_valid = train_test_split(\n",
        "    input_data[:4000], output_data[:4000], test_size=0.2, random_state=123)\n",
        "\n",
        "# normalization_layer = layers.Normalization()\n",
        "# normalization_layer.adapt(input_data)"
      ]
    },
    {
      "cell_type": "code",
      "execution_count": null,
      "metadata": {
        "id": "DMN8VPKRVPpG"
      },
      "outputs": [],
      "source": [
        "input_neurons = nelx * nely\n",
        "output_neurons = nnpx * nnpy * 2\n",
        "def MLP(input_size=(input_neurons,)):\n",
        "    \n",
        "    # Input size represent the size of 1 image (the size used for pre-processing) \n",
        "    inputs = layers.Input(input_size)\n",
        "    # inputs = normalization_layer(inputs)\n",
        "    # dense = layers.Dense(input_neurons, activation='relu')(inputs)\n",
        "    # dense = layers.Dense(input_neurons, activation='relu')(dense)\n",
        "    outputs = layers.Dense(output_neurons)(inputs)\n",
        "    # Define the model\n",
        "    model = tf.keras.Model(inputs=inputs, outputs=outputs)\n",
        "    return model"
      ]
    },
    {
      "cell_type": "code",
      "execution_count": null,
      "metadata": {
        "id": "1qNFBWF8yt7S"
      },
      "outputs": [],
      "source": [
        "mlp = MLP()\n",
        "mlp.compile(optimizer=tf.keras.optimizers.SGD(learning_rate=0.5), \n",
        "             loss=tf.keras.losses.MeanAbsoluteError(),\n",
        "              metrics=['mean_squared_error'])\n",
        "# mlp.compile(optimizer=tf.keras.optimizers.Adam(learning_rate=0.001), \n",
        "#              loss=tf.keras.losses.MeanAbsoluteError(),\n",
        "#               metrics=['mean_squared_error'])\n",
        "# filepath = '/content/drive/MyDrive/Model/cnn_4x_mae.hdf5'\n",
        "# from keras.callbacks import ModelCheckpoint\n",
        "# checkpoint = ModelCheckpoint(filepath=filepath, \n",
        "#                              monitor='val_loss',\n",
        "#                              verbose=0, \n",
        "#                              save_best_only=True,\n",
        "#                              mode='min')\n",
        "# callbacks = [checkpoint]"
      ]
    },
    {
      "cell_type": "code",
      "source": [
        "from tensorflow import keras\n",
        "keras.utils.plot_model(mlp, show_shapes=True)"
      ],
      "metadata": {
        "colab": {
          "base_uri": "https://localhost:8080/",
          "height": 201
        },
        "id": "AnQxQTdSzdFD",
        "outputId": "1810aeea-cc9c-4b4a-839d-63218afd930d"
      },
      "execution_count": null,
      "outputs": [
        {
          "output_type": "execute_result",
          "data": {
            "text/plain": [
              "<IPython.core.display.Image object>"
            ],
            "image/png": "[encoded data removed]"
          },
          "metadata": {},
          "execution_count": 43
        }
      ]
    },
    {
      "cell_type": "code",
      "execution_count": null,
      "metadata": {
        "id": "92bB2QkHziPP"
      },
      "outputs": [],
      "source": [
        "results = mlp.fit(input_train, output_train, batch_size=32, \n",
        "                        epochs=500, validation_data=(input_valid, output_valid))"
      ]
    },
    {
      "cell_type": "code",
      "execution_count": null,
      "metadata": {
        "id": "jgmyD6jpNks_"
      },
      "outputs": [],
      "source": [
        "mlp.save('/content/drive/MyDrive/Model/mlp_mean1.h5')"
      ]
    },
    {
      "cell_type": "code",
      "execution_count": null,
      "metadata": {
        "id": "lyUPDreKbmXS"
      },
      "outputs": [],
      "source": [
        "from tensorflow.keras.models import load_model\n",
        "fe_sr_net = load_model('content/drive/MyDrive/Model/my_best_model.hdf5')\n",
        "fe_sr_net.save('/content/drive/MyDrive/Model/cnn_4x_mse.h5')"
      ]
    },
    {
      "cell_type": "code",
      "execution_count": null,
      "metadata": {
        "colab": {
          "base_uri": "https://localhost:8080/",
          "height": 354
        },
        "id": "iqkLNc-7L5xB",
        "outputId": "d95470b4-7ec3-4ca2-e93f-6036e56b85c9"
      },
      "outputs": [
        {
          "output_type": "execute_result",
          "data": {
            "text/plain": [
              "<matplotlib.legend.Legend at 0x7f06a4b1df90>"
            ]
          },
          "metadata": {},
          "execution_count": 52
        },
        {
          "output_type": "display_data",
          "data": {
            "text/plain": [
              "<Figure size 360x360 with 1 Axes>"
            ],
            "image/png": "[encoded data removed]"
          },
          "metadata": {
            "needs_background": "light"
          }
        }
      ],
      "source": [
        "import matplotlib.pyplot as plt\n",
        "fig, axis = plt.subplots(1, 1, figsize=(5, 5))\n",
        "axis.plot(results.history[\"loss\"], color='r', label = 'train loss')\n",
        "axis.plot(results.history[\"val_loss\"], color='b', label = 'val loss')\n",
        "axis.set_title('0-layer')\n",
        "axis.legend()"
      ]
    },
    {
      "cell_type": "code",
      "execution_count": null,
      "metadata": {
        "id": "kLMyRJwJHC3g"
      },
      "outputs": [],
      "source": [
        "number=10\n",
        "output_predicted = mlp.predict(input_valid[:number])\n",
        "predicted_rescaled = output_predicted.reshape(number,2,nnpy,nnpx)\n",
        "truth_rescaled = output_valid[:number].reshape(number,2,nnpy,nnpx)\n",
        "predict_truth = np.stack((predicted_rescaled, truth_rescaled))"
      ]
    },
    {
      "cell_type": "code",
      "execution_count": null,
      "metadata": {
        "id": "M1CYrVgCYPwe",
        "colab": {
          "base_uri": "https://localhost:8080/"
        },
        "outputId": "fa8a9258-3ded-471e-eb0f-296cac70a226"
      },
      "outputs": [
        {
          "output_type": "stream",
          "name": "stderr",
          "text": [
            "/usr/local/lib/python3.7/dist-packages/ipykernel_launcher.py:9: RuntimeWarning: divide by zero encountered in true_divide\n",
            "  if __name__ == '__main__':\n"
          ]
        }
      ],
      "source": [
        "ds_dual = xr.Dataset({\n",
        "    'truth': (('number', 'uxy', 'nnpy', 'nnpx'), truth_rescaled),\n",
        "    'predicted': (('number', 'uxy', 'nnpy', 'nnpx'), predicted_rescaled),\n",
        "    }, coords={'number': np.arange(len(truth_rescaled))})\n",
        "ds_temp = xr.Dataset({\n",
        "    'compare': (('predict_or_truth','number', 'uxy', 'nnpy', 'nnpx'), predict_truth)\n",
        "    }, coords={'number': np.arange(predict_truth.shape[1])})\n",
        "ds_diff = xr.Dataset({\n",
        "    'accuracy': (('number', 'uxy', 'nnpy', 'nnpx'), (truth_rescaled - predicted_rescaled) / truth_rescaled)\n",
        "    }, coords={'number': np.arange(truth_rescaled.shape[0])})\n"
      ]
    },
    {
      "cell_type": "code",
      "execution_count": null,
      "metadata": {
        "id": "32ar-DlMZPQ5",
        "colab": {
          "base_uri": "https://localhost:8080/",
          "height": 315
        },
        "outputId": "a024b669-06b1-44d2-f9a3-4527ce43250d"
      },
      "outputs": [
        {
          "output_type": "execute_result",
          "data": {
            "text/plain": [
              "<xarray.plot.facetgrid.FacetGrid at 0x7f06a4a4e090>"
            ]
          },
          "metadata": {},
          "execution_count": 55
        },
        {
          "output_type": "display_data",
          "data": {
            "text/plain": [
              "<Figure size 936x288 with 5 Axes>"
            ],
            "image/png": "[encoded data removed]"
          },
          "metadata": {
            "needs_background": "light"
          }
        }
      ],
      "source": [
        "# index = [i for i in range(50) if i > 0]\n",
        "index = [8]\n",
        "ds_sel = ds_temp.compare.sel(number=index).squeeze()\n",
        "ds_sel.plot.imshow(\n",
        "        col='predict_or_truth',row='uxy', x='nnpx', y='nnpy', size=2,aspect=3, \n",
        "        yincrease=False, add_colorbar=True, cmap='rainbow')"
      ]
    },
    {
      "cell_type": "code",
      "execution_count": null,
      "metadata": {
        "colab": {
          "base_uri": "https://localhost:8080/",
          "height": 315
        },
        "id": "kOiygUlNjK41",
        "outputId": "02888dbd-2886-4dbc-d6ec-a4abbbc48802"
      },
      "outputs": [
        {
          "output_type": "execute_result",
          "data": {
            "text/plain": [
              "<xarray.plot.facetgrid.FacetGrid at 0x7f06a421f790>"
            ]
          },
          "metadata": {},
          "execution_count": 62
        },
        {
          "output_type": "display_data",
          "data": {
            "text/plain": [
              "<Figure size 504x288 with 3 Axes>"
            ],
            "image/png": "[encoded data removed]"
          },
          "metadata": {
            "needs_background": "light"
          }
        }
      ],
      "source": [
        "# index = [i for i in range(50) if i > 0]\n",
        "index=[7]\n",
        "ds_diff.accuracy.sel(number=index).clip(0,1).plot.imshow(\n",
        "        col='number', row='uxy', x='nnpx', y='nnpy', size=2, aspect=3,\n",
        "        yincrease=False, add_colorbar=True, cmap='rainbow')\n",
        "\n",
        "# for i in range(50):\n",
        "#     ds_dual.predicted.sel(number=[i]).plot.imshow(\n",
        "#         col='number', x='nelx', y='nely', size=2, \n",
        "#         yincrease=False, add_colorbar=True, cmap='rainbow')\n",
        "#     ds_dual.truth.sel(number=[i]).plot.imshow(\n",
        "#         col='number', x='nelx', y='nely', size=2, \n",
        "#         yincrease=False, add_colorbar=True, cmap='rainbow')"
      ]
    },
    {
      "cell_type": "code",
      "source": [
        "plt.imshow(input_valid[2].reshape(nely,nelx), cmap='Greys')"
      ],
      "metadata": {
        "colab": {
          "base_uri": "https://localhost:8080/",
          "height": 179
        },
        "id": "bO-XoBNnV_EK",
        "outputId": "fcbd0d2b-5274-405f-f81a-da61435d421c"
      },
      "execution_count": null,
      "outputs": [
        {
          "output_type": "execute_result",
          "data": {
            "text/plain": [
              "<matplotlib.image.AxesImage at 0x7fb038d068d0>"
            ]
          },
          "metadata": {},
          "execution_count": 100
        },
        {
          "output_type": "display_data",
          "data": {
            "text/plain": [
              "<Figure size 432x288 with 1 Axes>"
            ],
            "image/png": "[encoded data removed]"
          },
          "metadata": {
            "needs_background": "light"
          }
        }
      ]
    }
  ],
  "metadata": {
    "colab": {
      "collapsed_sections": [],
      "name": "MLP_for_density",
      "provenance": [],
      "mount_file_id": "1iyA526XE1SCavnV2oWFIw4p2I9RVxjjM",
      "authorship_tag": "ABX9TyMKYQZs0Cdml987mmiTYXIF",
      "include_colab_link": true
    },
    "kernelspec": {
      "display_name": "Python 3",
      "name": "python3"
    },
    "language_info": {
      "name": "python"
    },
    "gpuClass": "standard",
    "accelerator": "GPU"
  },
  "nbformat": 4,
  "nbformat_minor": 0
}